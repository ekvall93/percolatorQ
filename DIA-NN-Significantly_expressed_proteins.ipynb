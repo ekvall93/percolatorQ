{
 "cells": [
  {
   "cell_type": "code",
   "execution_count": 1,
   "metadata": {},
   "outputs": [],
   "source": [
    "import pandas as pd\n",
    "from scipy.stats import ttest_ind\n",
    "import numpy as np"
   ]
  },
  {
   "cell_type": "code",
   "execution_count": 2,
   "metadata": {},
   "outputs": [],
   "source": [
    "from statsmodels.stats.multitest import multipletests"
   ]
  },
  {
   "cell_type": "code",
   "execution_count": 3,
   "metadata": {},
   "outputs": [],
   "source": [
    "diann_pg = pd.read_csv(\"/sdd/proteomics/DATA/PXD014076/output/diann_gui.pg_matrix.tsv\", sep=\"\\t\")"
   ]
  },
  {
   "cell_type": "code",
   "execution_count": 4,
   "metadata": {},
   "outputs": [
    {
     "data": {
      "text/html": [
       "<div>\n",
       "<style scoped>\n",
       "    .dataframe tbody tr th:only-of-type {\n",
       "        vertical-align: middle;\n",
       "    }\n",
       "\n",
       "    .dataframe tbody tr th {\n",
       "        vertical-align: top;\n",
       "    }\n",
       "\n",
       "    .dataframe thead th {\n",
       "        text-align: right;\n",
       "    }\n",
       "</style>\n",
       "<table border=\"1\" class=\"dataframe\">\n",
       "  <thead>\n",
       "    <tr style=\"text-align: right;\">\n",
       "      <th></th>\n",
       "      <th>0</th>\n",
       "      <th>1</th>\n",
       "    </tr>\n",
       "  </thead>\n",
       "  <tbody>\n",
       "    <tr>\n",
       "      <th>Protein.Group</th>\n",
       "      <td>AIPGENE10000</td>\n",
       "      <td>AIPGENE10019</td>\n",
       "    </tr>\n",
       "    <tr>\n",
       "      <th>Protein.Ids</th>\n",
       "      <td>AIPGENE10000</td>\n",
       "      <td>AIPGENE10019</td>\n",
       "    </tr>\n",
       "    <tr>\n",
       "      <th>Protein.Names</th>\n",
       "      <td>NaN</td>\n",
       "      <td>NaN</td>\n",
       "    </tr>\n",
       "    <tr>\n",
       "      <th>Genes</th>\n",
       "      <td>NaN</td>\n",
       "      <td>NaN</td>\n",
       "    </tr>\n",
       "    <tr>\n",
       "      <th>First.Protein.Description</th>\n",
       "      <td>NaN</td>\n",
       "      <td>NaN</td>\n",
       "    </tr>\n",
       "    <tr>\n",
       "      <th>\\\\VBOXSVR\\proteomics\\DATA\\PXD014076\\Aposymb\\mzML\\Aposymb_Proteome_DIA_RAW_A01.mzML</th>\n",
       "      <td>9.04383e+06</td>\n",
       "      <td>5.50443e+06</td>\n",
       "    </tr>\n",
       "    <tr>\n",
       "      <th>\\\\VBOXSVR\\proteomics\\DATA\\PXD014076\\Aposymb\\mzML\\Aposymb_Proteome_DIA_RAW_A02.mzML</th>\n",
       "      <td>9.40331e+06</td>\n",
       "      <td>5.65353e+06</td>\n",
       "    </tr>\n",
       "    <tr>\n",
       "      <th>\\\\VBOXSVR\\proteomics\\DATA\\PXD014076\\Aposymb\\mzML\\Aposymb_Proteome_DIA_RAW_A03.mzML</th>\n",
       "      <td>9.09718e+06</td>\n",
       "      <td>5.95881e+06</td>\n",
       "    </tr>\n",
       "    <tr>\n",
       "      <th>\\\\VBOXSVR\\proteomics\\DATA\\PXD014076\\Aposymb\\mzML\\Aposymb_Proteome_DIA_RAW_A04.mzML</th>\n",
       "      <td>8.87586e+06</td>\n",
       "      <td>5.73049e+06</td>\n",
       "    </tr>\n",
       "    <tr>\n",
       "      <th>\\\\VBOXSVR\\proteomics\\DATA\\PXD014076\\Aposymb\\mzML\\Aposymb_Proteome_DIA_RAW_A05.mzML</th>\n",
       "      <td>9.0568e+06</td>\n",
       "      <td>5.61936e+06</td>\n",
       "    </tr>\n",
       "    <tr>\n",
       "      <th>\\\\VBOXSVR\\proteomics\\DATA\\PXD014076\\Symb\\mzML\\Symb_Proteome_DIA_RAW_S01.mzML</th>\n",
       "      <td>8.17779e+06</td>\n",
       "      <td>6.30832e+06</td>\n",
       "    </tr>\n",
       "    <tr>\n",
       "      <th>\\\\VBOXSVR\\proteomics\\DATA\\PXD014076\\Symb\\mzML\\Symb_Proteome_DIA_RAW_S02.mzML</th>\n",
       "      <td>8.13431e+06</td>\n",
       "      <td>6.03162e+06</td>\n",
       "    </tr>\n",
       "    <tr>\n",
       "      <th>\\\\VBOXSVR\\proteomics\\DATA\\PXD014076\\Symb\\mzML\\Symb_Proteome_DIA_RAW_S03.mzML</th>\n",
       "      <td>7.95028e+06</td>\n",
       "      <td>5.63571e+06</td>\n",
       "    </tr>\n",
       "    <tr>\n",
       "      <th>\\\\VBOXSVR\\proteomics\\DATA\\PXD014076\\Symb\\mzML\\Symb_Proteome_DIA_RAW_S04.mzML</th>\n",
       "      <td>8.0599e+06</td>\n",
       "      <td>6.22908e+06</td>\n",
       "    </tr>\n",
       "    <tr>\n",
       "      <th>\\\\VBOXSVR\\proteomics\\DATA\\PXD014076\\Symb\\mzML\\Symb_Proteome_DIA_RAW_S05.mzML</th>\n",
       "      <td>8.04465e+06</td>\n",
       "      <td>5.85606e+06</td>\n",
       "    </tr>\n",
       "  </tbody>\n",
       "</table>\n",
       "</div>"
      ],
      "text/plain": [
       "                                                               0             1\n",
       "Protein.Group                                       AIPGENE10000  AIPGENE10019\n",
       "Protein.Ids                                         AIPGENE10000  AIPGENE10019\n",
       "Protein.Names                                                NaN           NaN\n",
       "Genes                                                        NaN           NaN\n",
       "First.Protein.Description                                    NaN           NaN\n",
       "\\\\VBOXSVR\\proteomics\\DATA\\PXD014076\\Aposymb\\mzM...   9.04383e+06   5.50443e+06\n",
       "\\\\VBOXSVR\\proteomics\\DATA\\PXD014076\\Aposymb\\mzM...   9.40331e+06   5.65353e+06\n",
       "\\\\VBOXSVR\\proteomics\\DATA\\PXD014076\\Aposymb\\mzM...   9.09718e+06   5.95881e+06\n",
       "\\\\VBOXSVR\\proteomics\\DATA\\PXD014076\\Aposymb\\mzM...   8.87586e+06   5.73049e+06\n",
       "\\\\VBOXSVR\\proteomics\\DATA\\PXD014076\\Aposymb\\mzM...    9.0568e+06   5.61936e+06\n",
       "\\\\VBOXSVR\\proteomics\\DATA\\PXD014076\\Symb\\mzML\\S...   8.17779e+06   6.30832e+06\n",
       "\\\\VBOXSVR\\proteomics\\DATA\\PXD014076\\Symb\\mzML\\S...   8.13431e+06   6.03162e+06\n",
       "\\\\VBOXSVR\\proteomics\\DATA\\PXD014076\\Symb\\mzML\\S...   7.95028e+06   5.63571e+06\n",
       "\\\\VBOXSVR\\proteomics\\DATA\\PXD014076\\Symb\\mzML\\S...    8.0599e+06   6.22908e+06\n",
       "\\\\VBOXSVR\\proteomics\\DATA\\PXD014076\\Symb\\mzML\\S...   8.04465e+06   5.85606e+06"
      ]
     },
     "execution_count": 4,
     "metadata": {},
     "output_type": "execute_result"
    }
   ],
   "source": [
    "diann_pg.head(2).T"
   ]
  },
  {
   "cell_type": "code",
   "execution_count": 5,
   "metadata": {},
   "outputs": [],
   "source": [
    "replicates = diann_pg.columns[5:]"
   ]
  },
  {
   "cell_type": "code",
   "execution_count": 6,
   "metadata": {},
   "outputs": [
    {
     "data": {
      "text/plain": [
       "(3522, 15)"
      ]
     },
     "execution_count": 6,
     "metadata": {},
     "output_type": "execute_result"
    }
   ],
   "source": [
    "diann_pg.shape"
   ]
  },
  {
   "cell_type": "code",
   "execution_count": 7,
   "metadata": {},
   "outputs": [],
   "source": [
    "diann_pg_noNaN = diann_pg[replicates].dropna()"
   ]
  },
  {
   "cell_type": "code",
   "execution_count": 8,
   "metadata": {},
   "outputs": [
    {
     "data": {
      "text/plain": [
       "(3289, 10)"
      ]
     },
     "execution_count": 8,
     "metadata": {},
     "output_type": "execute_result"
    }
   ],
   "source": [
    "diann_pg_noNaN.shape"
   ]
  },
  {
   "cell_type": "code",
   "execution_count": 9,
   "metadata": {},
   "outputs": [],
   "source": [
    "diann_pg_noNaN.reset_index(inplace=True, drop=True)"
   ]
  },
  {
   "cell_type": "code",
   "execution_count": 10,
   "metadata": {},
   "outputs": [],
   "source": [
    "diann_pg_noNaN[\"statistic\"], diann_pg_noNaN[\"pvalue\"] = ttest_ind(diann_pg_noNaN[replicates[5:]], \n",
    "                                                                  diann_pg_noNaN[replicates[:5]], axis=1)"
   ]
  },
  {
   "cell_type": "code",
   "execution_count": 11,
   "metadata": {},
   "outputs": [],
   "source": [
    "diann_pg_noNaN[\"log-statistic\"], diann_pg_noNaN[\"log-pvalue\"] = ttest_ind(np.log(diann_pg_noNaN[replicates[5:]]), \n",
    "                                                              np.log(diann_pg_noNaN[replicates[:5]]), axis=1)"
   ]
  },
  {
   "cell_type": "code",
   "execution_count": 12,
   "metadata": {},
   "outputs": [],
   "source": [
    "pg_reject, pg_pvals_correctedndarray, _, _ = multipletests(diann_pg_noNaN[\"pvalue\"], alpha=0.05)"
   ]
  },
  {
   "cell_type": "code",
   "execution_count": 13,
   "metadata": {},
   "outputs": [],
   "source": [
    "pg_log_reject, pg_log_pvals_correctedndarray, _, _ = multipletests(diann_pg_noNaN[\"log-pvalue\"], alpha=0.05)"
   ]
  },
  {
   "cell_type": "code",
   "execution_count": 14,
   "metadata": {},
   "outputs": [
    {
     "data": {
      "text/plain": [
       "508"
      ]
     },
     "execution_count": 14,
     "metadata": {},
     "output_type": "execute_result"
    }
   ],
   "source": [
    "sum(pg_reject)"
   ]
  },
  {
   "cell_type": "code",
   "execution_count": 15,
   "metadata": {},
   "outputs": [
    {
     "data": {
      "text/plain": [
       "489"
      ]
     },
     "execution_count": 15,
     "metadata": {},
     "output_type": "execute_result"
    }
   ],
   "source": [
    "sum(pg_log_reject)"
   ]
  },
  {
   "cell_type": "markdown",
   "metadata": {},
   "source": [
    "# PR"
   ]
  },
  {
   "cell_type": "code",
   "execution_count": 16,
   "metadata": {},
   "outputs": [],
   "source": [
    "diann_pr = pd.read_csv(\"/sdd/proteomics/DATA/PXD014076/output/diann_gui.pr_matrix.tsv\", sep=\"\\t\")"
   ]
  },
  {
   "cell_type": "code",
   "execution_count": 17,
   "metadata": {},
   "outputs": [
    {
     "data": {
      "text/plain": [
       "(27826, 20)"
      ]
     },
     "execution_count": 17,
     "metadata": {},
     "output_type": "execute_result"
    }
   ],
   "source": [
    "diann_pr.shape"
   ]
  },
  {
   "cell_type": "code",
   "execution_count": 18,
   "metadata": {},
   "outputs": [],
   "source": [
    "diann_pr_noNaN = diann_pr[replicates].dropna()"
   ]
  },
  {
   "cell_type": "code",
   "execution_count": 19,
   "metadata": {},
   "outputs": [
    {
     "data": {
      "text/plain": [
       "(20496, 10)"
      ]
     },
     "execution_count": 19,
     "metadata": {},
     "output_type": "execute_result"
    }
   ],
   "source": [
    "diann_pr_noNaN.shape"
   ]
  },
  {
   "cell_type": "code",
   "execution_count": 20,
   "metadata": {},
   "outputs": [],
   "source": [
    "diann_pr_noNaN = diann_pr_noNaN[~((diann_pr_noNaN == 0).any(axis=1))]"
   ]
  },
  {
   "cell_type": "code",
   "execution_count": 21,
   "metadata": {},
   "outputs": [
    {
     "data": {
      "text/plain": [
       "(20495, 10)"
      ]
     },
     "execution_count": 21,
     "metadata": {},
     "output_type": "execute_result"
    }
   ],
   "source": [
    "diann_pr_noNaN.shape"
   ]
  },
  {
   "cell_type": "code",
   "execution_count": 22,
   "metadata": {},
   "outputs": [],
   "source": [
    "diann_pr_noNaN.reset_index(inplace=True, drop=True)"
   ]
  },
  {
   "cell_type": "code",
   "execution_count": 23,
   "metadata": {},
   "outputs": [],
   "source": [
    "diann_pr_noNaN[\"statistic\"], diann_pr_noNaN[\"pvalue\"] = ttest_ind(diann_pr_noNaN[replicates[5:]], \n",
    "                                                                  diann_pr_noNaN[replicates[:5]], axis=1)"
   ]
  },
  {
   "cell_type": "code",
   "execution_count": 24,
   "metadata": {},
   "outputs": [],
   "source": [
    "diann_pr_noNaN[\"log-statistic\"], diann_pr_noNaN[\"log-pvalue\"] = ttest_ind(np.log(diann_pr_noNaN[replicates[5:]]), \n",
    "np.log(diann_pr_noNaN[replicates[:5]]), axis=1)                                                 "
   ]
  },
  {
   "cell_type": "code",
   "execution_count": 25,
   "metadata": {},
   "outputs": [],
   "source": [
    "pr_reject, pr_pvals_correctedndarray, _, _ = multipletests(diann_pr_noNaN[\"pvalue\"], alpha=0.05)"
   ]
  },
  {
   "cell_type": "code",
   "execution_count": 26,
   "metadata": {},
   "outputs": [],
   "source": [
    "pr_log_reject, pr_log_pvals_correctedndarray, _, _ = multipletests(diann_pr_noNaN[\"log-pvalue\"], alpha=0.05)"
   ]
  },
  {
   "cell_type": "code",
   "execution_count": 27,
   "metadata": {},
   "outputs": [
    {
     "data": {
      "text/plain": [
       "1084"
      ]
     },
     "execution_count": 27,
     "metadata": {},
     "output_type": "execute_result"
    }
   ],
   "source": [
    "sum(pr_reject)"
   ]
  },
  {
   "cell_type": "code",
   "execution_count": 28,
   "metadata": {},
   "outputs": [
    {
     "data": {
      "text/plain": [
       "968"
      ]
     },
     "execution_count": 28,
     "metadata": {},
     "output_type": "execute_result"
    }
   ],
   "source": [
    "sum(pr_log_reject)"
   ]
  }
 ],
 "metadata": {
  "kernelspec": {
   "display_name": "Python (terran3)",
   "language": "python",
   "name": "terran3"
  },
  "language_info": {
   "codemirror_mode": {
    "name": "ipython",
    "version": 3
   },
   "file_extension": ".py",
   "mimetype": "text/x-python",
   "name": "python",
   "nbconvert_exporter": "python",
   "pygments_lexer": "ipython3",
   "version": "3.6.10"
  }
 },
 "nbformat": 4,
 "nbformat_minor": 2
}
