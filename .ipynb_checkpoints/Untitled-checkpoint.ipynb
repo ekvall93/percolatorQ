{
 "cells": [
  {
   "cell_type": "code",
   "execution_count": 1,
   "metadata": {},
   "outputs": [],
   "source": [
    "### Read tab"
   ]
  },
  {
   "cell_type": "code",
   "execution_count": 41,
   "metadata": {},
   "outputs": [
    {
     "name": "stdout",
     "output_type": "stream",
     "text": [
      "psm-convert_labels.pin\tpsm-convert.params.txt\r\n",
      "psm-convert.log.txt\tpsm-convert.pin\r\n"
     ]
    }
   ],
   "source": [
    "!ls \"/home/ekvall/Desktop/output/crux-output/\""
   ]
  },
  {
   "cell_type": "code",
   "execution_count": 134,
   "metadata": {},
   "outputs": [],
   "source": [
    "tab_file = open(\"/home/ekvall/Desktop/output/crux-output/psm-convert.pin\", \"r\")"
   ]
  },
  {
   "cell_type": "code",
   "execution_count": 135,
   "metadata": {},
   "outputs": [],
   "source": [
    "Lines = tab_file.readlines()"
   ]
  },
  {
   "cell_type": "code",
   "execution_count": 136,
   "metadata": {},
   "outputs": [],
   "source": [
    "tab_file.close()"
   ]
  },
  {
   "cell_type": "code",
   "execution_count": 137,
   "metadata": {},
   "outputs": [
    {
     "data": {
      "text/plain": [
       "57570"
      ]
     },
     "execution_count": 137,
     "metadata": {},
     "output_type": "execute_result"
    }
   ],
   "source": [
    "len(Lines)"
   ]
  },
  {
   "cell_type": "code",
   "execution_count": 139,
   "metadata": {},
   "outputs": [],
   "source": [
    "\n",
    "with open('/home/ekvall/Desktop/output/crux-output/psm-convert_label.pin', 'w') as f:\n",
    "    for i, line in enumerate(Lines):\n",
    "        cols = line.split(\"\\t\")\n",
    "        name = cols[-1]\n",
    "        if \"rev_\" in name:\n",
    "            cols[1] = \"-1\"\n",
    "        \n",
    "        new_row = \"\\t\".join(cols)\n",
    "        f.write(new_row)\n",
    "\n",
    "\n"
   ]
  },
  {
   "cell_type": "code",
   "execution_count": 132,
   "metadata": {},
   "outputs": [
    {
     "data": {
      "text/plain": [
       "'target_-1_65354_4_1\\t1\\t65354\\t2319.0334\\t2317.1091\\t19\\t0\\t0\\t0\\t1\\t1\\t1\\t1\\t0.00000000\\t-0.02061026\\t0.02061026\\tK.SLPYLVEVFTNDKM[15.99]EECVK.L\\tsp|Q9Y4F3|MARF1_HUMAN Meiosis regulator and mRNA stability factor 1 OS=Homo sapiens OX=9606 GN=MARF1 PE=1 SV=6\\n'"
      ]
     },
     "execution_count": 132,
     "metadata": {},
     "output_type": "execute_result"
    }
   ],
   "source": [
    "new_row"
   ]
  },
  {
   "cell_type": "code",
   "execution_count": 92,
   "metadata": {},
   "outputs": [
    {
     "data": {
      "text/plain": [
       "'target_-1_55_4_1\\t-1\\t55\\t1646.7276\\t1646.7303\\t14\\t0\\t0\\t0\\t1\\t1\\t1\\t2\\t0.00000000\\t-0.00068332\\t0.00068332\\tR.SGFAKGCEKCDYPK.E\\trev_sp|Q3KNS6|ZN829_HUMAN Zinc finger protein 829 OS=Homo sapiens OX=9606 GN=ZNF829 PE=1 SV=1\\n'"
      ]
     },
     "execution_count": 92,
     "metadata": {},
     "output_type": "execute_result"
    }
   ],
   "source": [
    "\"\\t\".join(cols)"
   ]
  },
  {
   "cell_type": "code",
   "execution_count": null,
   "metadata": {},
   "outputs": [],
   "source": []
  },
  {
   "cell_type": "code",
   "execution_count": null,
   "metadata": {},
   "outputs": [],
   "source": []
  },
  {
   "cell_type": "code",
   "execution_count": 87,
   "metadata": {},
   "outputs": [
    {
     "data": {
      "text/plain": [
       "'rev_sp|Q3KNS6|ZN829_HUMAN Zinc finger protein 829 OS=Homo sapiens OX=9606 GN=ZNF829 PE=1 SV=1\\n'"
      ]
     },
     "execution_count": 87,
     "metadata": {},
     "output_type": "execute_result"
    }
   ],
   "source": [
    "name"
   ]
  },
  {
   "cell_type": "code",
   "execution_count": null,
   "metadata": {},
   "outputs": [],
   "source": []
  },
  {
   "cell_type": "code",
   "execution_count": 80,
   "metadata": {},
   "outputs": [
    {
     "data": {
      "text/plain": [
       "'sp|Q9Y4F3|MARF1_HUMAN Meiosis regulator and mRNA stability factor 1 OS=Homo sapiens OX=9606 GN=MARF1 PE=1 SV=6\\n'"
      ]
     },
     "execution_count": 80,
     "metadata": {},
     "output_type": "execute_result"
    }
   ],
   "source": [
    "line.split(\"\\t\")[-1]"
   ]
  },
  {
   "cell_type": "code",
   "execution_count": 73,
   "metadata": {},
   "outputs": [
    {
     "data": {
      "text/plain": [
       "18"
      ]
     },
     "execution_count": 73,
     "metadata": {},
     "output_type": "execute_result"
    }
   ],
   "source": [
    "len(line.split(\"\\t\"))"
   ]
  },
  {
   "cell_type": "code",
   "execution_count": 26,
   "metadata": {},
   "outputs": [
    {
     "data": {
      "text/plain": [
       "28797"
      ]
     },
     "execution_count": 26,
     "metadata": {},
     "output_type": "execute_result"
    }
   ],
   "source": [
    "tar_sum"
   ]
  },
  {
   "cell_type": "code",
   "execution_count": null,
   "metadata": {},
   "outputs": [],
   "source": []
  }
 ],
 "metadata": {
  "kernelspec": {
   "display_name": "Python (terran3)",
   "language": "python",
   "name": "terran3"
  },
  "language_info": {
   "codemirror_mode": {
    "name": "ipython",
    "version": 3
   },
   "file_extension": ".py",
   "mimetype": "text/x-python",
   "name": "python",
   "nbconvert_exporter": "python",
   "pygments_lexer": "ipython3",
   "version": "3.6.10"
  }
 },
 "nbformat": 4,
 "nbformat_minor": 2
}
