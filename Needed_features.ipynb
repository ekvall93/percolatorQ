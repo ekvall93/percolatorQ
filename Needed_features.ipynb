{
 "cells": [
  {
   "cell_type": "code",
   "execution_count": 1,
   "metadata": {},
   "outputs": [],
   "source": [
    "import pandas as pd\n",
    "import numpy as np"
   ]
  },
  {
   "cell_type": "markdown",
   "metadata": {},
   "source": [
    "# Easypqp 2 step spectral library conversion: Convert and Library"
   ]
  },
  {
   "cell_type": "markdown",
   "metadata": {},
   "source": [
    "# 1. Convert(*.pep.xml) -> ( *.psmpkl, *.peakpklls)"
   ]
  },
  {
   "cell_type": "markdown",
   "metadata": {},
   "source": [
    "## *.pep.xml is an iProphet output"
   ]
  },
  {
   "cell_type": "markdown",
   "metadata": {},
   "source": [
    "### Run easypqp convert"
   ]
  },
  {
   "cell_type": "code",
   "execution_count": 2,
   "metadata": {},
   "outputs": [
    {
     "name": "stdout",
     "output_type": "stream",
     "text": [
      "Info: Converting ./data/interact-Sample1.pep.xml.\n",
      "Info: Parsing run Sample1.\n",
      "Info: Parsing pepXML.\n",
      "Info: Generate theoretical spectra.\n",
      "Info: Processing spectra from file ./data/Sample1.mzML.\n",
      "Progress of 'loading spectra list':\n",
      "-- done [took 02:19 m (CPU), 17.56 s (Wall)] -- \n",
      "Progress of 'loading chromatogram list':\n",
      "-- done [took 0.02 s (CPU), 0.00 s (Wall)] -- \n",
      "Info: PSMs successfully converted and stored in ./data/Sample1.psmpkl.\n",
      "Info: Peaks successfully converted and stored in ./data/Sample1.peakpklls.\n"
     ]
    }
   ],
   "source": [
    "!easypqp convert --pepxml \"./data/interact-Sample1.pep.xml\" \\\n",
    "--spectra ./data/Sample1.mzML \\\n",
    "--exclude-range -1.5,3.5 \\\n",
    "--psms ./data/Sample1.psmpkl \\\n",
    "--peaks ./data/Sample1.peakpklls\n",
    "\n"
   ]
  },
  {
   "cell_type": "markdown",
   "metadata": {},
   "source": [
    "## Check psms output-file"
   ]
  },
  {
   "cell_type": "code",
   "execution_count": 3,
   "metadata": {},
   "outputs": [],
   "source": [
    "psms = pd.read_pickle(\"./data/Sample1.psmpkl\")"
   ]
  },
  {
   "cell_type": "markdown",
   "metadata": {},
   "source": [
    "# Check which features are really needed in psms."
   ]
  },
  {
   "cell_type": "code",
   "execution_count": 4,
   "metadata": {},
   "outputs": [
    {
     "data": {
      "text/html": [
       "<div>\n",
       "<style scoped>\n",
       "    .dataframe tbody tr th:only-of-type {\n",
       "        vertical-align: middle;\n",
       "    }\n",
       "\n",
       "    .dataframe tbody tr th {\n",
       "        vertical-align: top;\n",
       "    }\n",
       "\n",
       "    .dataframe thead th {\n",
       "        text-align: right;\n",
       "    }\n",
       "</style>\n",
       "<table border=\"1\" class=\"dataframe\">\n",
       "  <thead>\n",
       "    <tr style=\"text-align: right;\">\n",
       "      <th></th>\n",
       "      <th>0</th>\n",
       "    </tr>\n",
       "  </thead>\n",
       "  <tbody>\n",
       "    <tr>\n",
       "      <th>run_id</th>\n",
       "      <td>Sample1</td>\n",
       "    </tr>\n",
       "    <tr>\n",
       "      <th>scan_id</th>\n",
       "      <td>2134</td>\n",
       "    </tr>\n",
       "    <tr>\n",
       "      <th>hit_rank</th>\n",
       "      <td>1</td>\n",
       "    </tr>\n",
       "    <tr>\n",
       "      <th>massdiff</th>\n",
       "      <td>1.95874</td>\n",
       "    </tr>\n",
       "    <tr>\n",
       "      <th>precursor_charge</th>\n",
       "      <td>2</td>\n",
       "    </tr>\n",
       "    <tr>\n",
       "      <th>retention_time</th>\n",
       "      <td>221.552</td>\n",
       "    </tr>\n",
       "    <tr>\n",
       "      <th>ion_mobility</th>\n",
       "      <td>NaN</td>\n",
       "    </tr>\n",
       "    <tr>\n",
       "      <th>peptide_sequence</th>\n",
       "      <td>ATPAPVSIAIVNDGLARR</td>\n",
       "    </tr>\n",
       "    <tr>\n",
       "      <th>modifications</th>\n",
       "      <td>M</td>\n",
       "    </tr>\n",
       "    <tr>\n",
       "      <th>nterm_modification</th>\n",
       "      <td></td>\n",
       "    </tr>\n",
       "    <tr>\n",
       "      <th>cterm_modification</th>\n",
       "      <td></td>\n",
       "    </tr>\n",
       "    <tr>\n",
       "      <th>protein_id</th>\n",
       "      <td>rev_tr|O06806|O06806_MYCTU</td>\n",
       "    </tr>\n",
       "    <tr>\n",
       "      <th>gene_id</th>\n",
       "      <td>rev_tr|O06806|O06806_MYCTU</td>\n",
       "    </tr>\n",
       "    <tr>\n",
       "      <th>num_tot_proteins</th>\n",
       "      <td>1</td>\n",
       "    </tr>\n",
       "    <tr>\n",
       "      <th>decoy</th>\n",
       "      <td>True</td>\n",
       "    </tr>\n",
       "    <tr>\n",
       "      <th>var_hyperscore</th>\n",
       "      <td>12.039</td>\n",
       "    </tr>\n",
       "    <tr>\n",
       "      <th>var_nextscore</th>\n",
       "      <td>7.97</td>\n",
       "    </tr>\n",
       "    <tr>\n",
       "      <th>var_expect</th>\n",
       "      <td>0.0840575</td>\n",
       "    </tr>\n",
       "    <tr>\n",
       "      <th>pep</th>\n",
       "      <td>0.8946</td>\n",
       "    </tr>\n",
       "    <tr>\n",
       "      <th>modified_peptide</th>\n",
       "      <td>ATPAPVSIAIVNDGLARR</td>\n",
       "    </tr>\n",
       "    <tr>\n",
       "      <th>group_id</th>\n",
       "      <td>Sample1_2134</td>\n",
       "    </tr>\n",
       "  </tbody>\n",
       "</table>\n",
       "</div>"
      ],
      "text/plain": [
       "                                             0\n",
       "run_id                                 Sample1\n",
       "scan_id                                   2134\n",
       "hit_rank                                     1\n",
       "massdiff                               1.95874\n",
       "precursor_charge                             2\n",
       "retention_time                         221.552\n",
       "ion_mobility                               NaN\n",
       "peptide_sequence            ATPAPVSIAIVNDGLARR\n",
       "modifications                                M\n",
       "nterm_modification                            \n",
       "cterm_modification                            \n",
       "protein_id          rev_tr|O06806|O06806_MYCTU\n",
       "gene_id             rev_tr|O06806|O06806_MYCTU\n",
       "num_tot_proteins                             1\n",
       "decoy                                     True\n",
       "var_hyperscore                          12.039\n",
       "var_nextscore                             7.97\n",
       "var_expect                           0.0840575\n",
       "pep                                     0.8946\n",
       "modified_peptide            ATPAPVSIAIVNDGLARR\n",
       "group_id                          Sample1_2134"
      ]
     },
     "execution_count": 4,
     "metadata": {},
     "output_type": "execute_result"
    }
   ],
   "source": [
    "psms.head(1).T"
   ]
  },
  {
   "cell_type": "code",
   "execution_count": 24,
   "metadata": {},
   "outputs": [],
   "source": [
    "#Exluding\n",
    "exlude = [\"run_id\",\"hit_rank\", \"massdiff\", \"ion_mobility\", \"var_hyperscore\", \"var_nextscore\", \"var_expect\"]"
   ]
  },
  {
   "cell_type": "code",
   "execution_count": 25,
   "metadata": {},
   "outputs": [],
   "source": [
    "psms[exlude] = np.nan"
   ]
  },
  {
   "cell_type": "code",
   "execution_count": 26,
   "metadata": {},
   "outputs": [
    {
     "data": {
      "text/html": [
       "<div>\n",
       "<style scoped>\n",
       "    .dataframe tbody tr th:only-of-type {\n",
       "        vertical-align: middle;\n",
       "    }\n",
       "\n",
       "    .dataframe tbody tr th {\n",
       "        vertical-align: top;\n",
       "    }\n",
       "\n",
       "    .dataframe thead th {\n",
       "        text-align: right;\n",
       "    }\n",
       "</style>\n",
       "<table border=\"1\" class=\"dataframe\">\n",
       "  <thead>\n",
       "    <tr style=\"text-align: right;\">\n",
       "      <th></th>\n",
       "      <th>0</th>\n",
       "    </tr>\n",
       "  </thead>\n",
       "  <tbody>\n",
       "    <tr>\n",
       "      <th>run_id</th>\n",
       "      <td>NaN</td>\n",
       "    </tr>\n",
       "    <tr>\n",
       "      <th>scan_id</th>\n",
       "      <td>2134</td>\n",
       "    </tr>\n",
       "    <tr>\n",
       "      <th>hit_rank</th>\n",
       "      <td>NaN</td>\n",
       "    </tr>\n",
       "    <tr>\n",
       "      <th>massdiff</th>\n",
       "      <td>NaN</td>\n",
       "    </tr>\n",
       "    <tr>\n",
       "      <th>precursor_charge</th>\n",
       "      <td>2</td>\n",
       "    </tr>\n",
       "    <tr>\n",
       "      <th>retention_time</th>\n",
       "      <td>221.552</td>\n",
       "    </tr>\n",
       "    <tr>\n",
       "      <th>ion_mobility</th>\n",
       "      <td>NaN</td>\n",
       "    </tr>\n",
       "    <tr>\n",
       "      <th>peptide_sequence</th>\n",
       "      <td>ATPAPVSIAIVNDGLARR</td>\n",
       "    </tr>\n",
       "    <tr>\n",
       "      <th>modifications</th>\n",
       "      <td>M</td>\n",
       "    </tr>\n",
       "    <tr>\n",
       "      <th>nterm_modification</th>\n",
       "      <td></td>\n",
       "    </tr>\n",
       "    <tr>\n",
       "      <th>cterm_modification</th>\n",
       "      <td></td>\n",
       "    </tr>\n",
       "    <tr>\n",
       "      <th>protein_id</th>\n",
       "      <td>rev_tr|O06806|O06806_MYCTU</td>\n",
       "    </tr>\n",
       "    <tr>\n",
       "      <th>gene_id</th>\n",
       "      <td>rev_tr|O06806|O06806_MYCTU</td>\n",
       "    </tr>\n",
       "    <tr>\n",
       "      <th>num_tot_proteins</th>\n",
       "      <td>1</td>\n",
       "    </tr>\n",
       "    <tr>\n",
       "      <th>decoy</th>\n",
       "      <td>True</td>\n",
       "    </tr>\n",
       "    <tr>\n",
       "      <th>var_hyperscore</th>\n",
       "      <td>NaN</td>\n",
       "    </tr>\n",
       "    <tr>\n",
       "      <th>var_nextscore</th>\n",
       "      <td>NaN</td>\n",
       "    </tr>\n",
       "    <tr>\n",
       "      <th>var_expect</th>\n",
       "      <td>NaN</td>\n",
       "    </tr>\n",
       "    <tr>\n",
       "      <th>pep</th>\n",
       "      <td>0.8946</td>\n",
       "    </tr>\n",
       "    <tr>\n",
       "      <th>modified_peptide</th>\n",
       "      <td>ATPAPVSIAIVNDGLARR</td>\n",
       "    </tr>\n",
       "    <tr>\n",
       "      <th>group_id</th>\n",
       "      <td>Sample1_2134</td>\n",
       "    </tr>\n",
       "  </tbody>\n",
       "</table>\n",
       "</div>"
      ],
      "text/plain": [
       "                                             0\n",
       "run_id                                     NaN\n",
       "scan_id                                   2134\n",
       "hit_rank                                   NaN\n",
       "massdiff                                   NaN\n",
       "precursor_charge                             2\n",
       "retention_time                         221.552\n",
       "ion_mobility                               NaN\n",
       "peptide_sequence            ATPAPVSIAIVNDGLARR\n",
       "modifications                                M\n",
       "nterm_modification                            \n",
       "cterm_modification                            \n",
       "protein_id          rev_tr|O06806|O06806_MYCTU\n",
       "gene_id             rev_tr|O06806|O06806_MYCTU\n",
       "num_tot_proteins                             1\n",
       "decoy                                     True\n",
       "var_hyperscore                             NaN\n",
       "var_nextscore                              NaN\n",
       "var_expect                                 NaN\n",
       "pep                                     0.8946\n",
       "modified_peptide            ATPAPVSIAIVNDGLARR\n",
       "group_id                          Sample1_2134"
      ]
     },
     "execution_count": 26,
     "metadata": {},
     "output_type": "execute_result"
    }
   ],
   "source": [
    "#Verify nan imputations\n",
    "psms.head(1).T"
   ]
  },
  {
   "cell_type": "code",
   "execution_count": 27,
   "metadata": {},
   "outputs": [],
   "source": [
    "#Save\n",
    "psms.to_pickle(\"./data/Sample1_with_nan.psmpkl\")"
   ]
  },
  {
   "cell_type": "code",
   "execution_count": 28,
   "metadata": {},
   "outputs": [
    {
     "data": {
      "text/plain": [
       "['modified_peptide',\n",
       " 'nterm_modification',\n",
       " 'modifications',\n",
       " 'decoy',\n",
       " 'precursor_charge',\n",
       " 'protein_id',\n",
       " 'cterm_modification',\n",
       " 'num_tot_proteins',\n",
       " 'gene_id',\n",
       " 'group_id',\n",
       " 'scan_id',\n",
       " 'retention_time',\n",
       " 'peptide_sequence',\n",
       " 'pep']"
      ]
     },
     "execution_count": 28,
     "metadata": {},
     "output_type": "execute_result"
    }
   ],
   "source": [
    "remaining = list(set(psms.columns) - set(exlude)); remaining"
   ]
  },
  {
   "cell_type": "markdown",
   "metadata": {},
   "source": [
    "# Mapping from MSFragger output to reamining columns:\n",
    "\n",
    "retention_time_sec -> retention_time\n",
    "\n",
    "assumed_charge -> precursor_charge\n",
    "\n",
    "protein -> protein_id\n",
    "\n",
    "protein -> decoy\n",
    "\n",
    "protein -> num_tot_proteins\n",
    "\n",
    "protein -> gene_id\n",
    "\n",
    "modifications & len(peptide) -> modifications #They exlude modifcations in N/C terminus and add it in other features i.e., nterm_modification/cterm_modification.\n",
    "\n",
    "modifications & len(peptide) -> nterm_modification\n",
    "\n",
    "modifications & len(peptide) ->cterm_modification\n",
    "\n",
    "spectrum -> run_id\n",
    "\n",
    "start_scan -> scan_id\n",
    "\n",
    "probability -> pep\n",
    "\n",
    "peptide -> peptide_sequence\n",
    "\n",
    "pepxmlfile (find \"_rank\" in name, else set \"\") & previous parsed values -> group_id\n",
    "\n",
    "\n",
    "modified_peptide* (Build from parsed values)"
   ]
  },
  {
   "cell_type": "code",
   "execution_count": 29,
   "metadata": {},
   "outputs": [],
   "source": [
    "peaks = pd.read_pickle(\"./data/Sample1.peakpklls\")"
   ]
  },
  {
   "cell_type": "code",
   "execution_count": 30,
   "metadata": {},
   "outputs": [
    {
     "data": {
      "text/html": [
       "<div>\n",
       "<style scoped>\n",
       "    .dataframe tbody tr th:only-of-type {\n",
       "        vertical-align: middle;\n",
       "    }\n",
       "\n",
       "    .dataframe tbody tr th {\n",
       "        vertical-align: top;\n",
       "    }\n",
       "\n",
       "    .dataframe thead th {\n",
       "        text-align: right;\n",
       "    }\n",
       "</style>\n",
       "<table border=\"1\" class=\"dataframe\">\n",
       "  <thead>\n",
       "    <tr style=\"text-align: right;\">\n",
       "      <th></th>\n",
       "      <th>0</th>\n",
       "    </tr>\n",
       "  </thead>\n",
       "  <tbody>\n",
       "    <tr>\n",
       "      <th>scan_id</th>\n",
       "      <td>2134</td>\n",
       "    </tr>\n",
       "    <tr>\n",
       "      <th>modified_peptide</th>\n",
       "      <td>ATPAPVSIAIVNDGLARR</td>\n",
       "    </tr>\n",
       "    <tr>\n",
       "      <th>precursor_charge</th>\n",
       "      <td>2</td>\n",
       "    </tr>\n",
       "    <tr>\n",
       "      <th>precursor_mz</th>\n",
       "      <td>911.021</td>\n",
       "    </tr>\n",
       "    <tr>\n",
       "      <th>fragment</th>\n",
       "      <td>b10^1</td>\n",
       "    </tr>\n",
       "    <tr>\n",
       "      <th>product_mz</th>\n",
       "      <td>921.54</td>\n",
       "    </tr>\n",
       "    <tr>\n",
       "      <th>intensity</th>\n",
       "      <td>2857.14</td>\n",
       "    </tr>\n",
       "  </tbody>\n",
       "</table>\n",
       "</div>"
      ],
      "text/plain": [
       "                                   0\n",
       "scan_id                         2134\n",
       "modified_peptide  ATPAPVSIAIVNDGLARR\n",
       "precursor_charge                   2\n",
       "precursor_mz                 911.021\n",
       "fragment                       b10^1\n",
       "product_mz                    921.54\n",
       "intensity                    2857.14"
      ]
     },
     "execution_count": 30,
     "metadata": {},
     "output_type": "execute_result"
    }
   ],
   "source": [
    "peaks.head(1).T"
   ]
  },
  {
   "cell_type": "markdown",
   "metadata": {},
   "source": [
    "# PEAKS is only dependent on 'scan_id','modified_peptide','precursor_charge' i.e., remaining columns"
   ]
  },
  {
   "cell_type": "markdown",
   "metadata": {},
   "source": [
    "# 1. library(*.psmpkl, *.peakpklls, psm.tsv, peptide.tsv) -> ( library.tsv)"
   ]
  },
  {
   "cell_type": "markdown",
   "metadata": {},
   "source": [
    "## *.psmpkl and *.peakpklls are easypqp convert output and psm.tsv and peptide.tsv are iProphet output"
   ]
  },
  {
   "cell_type": "markdown",
   "metadata": {},
   "source": [
    "### What is needed for psm.tsv"
   ]
  },
  {
   "cell_type": "code",
   "execution_count": 31,
   "metadata": {},
   "outputs": [],
   "source": [
    "psm_tsv = pd.read_csv(\"./data/psm.tsv\", sep=\"\\t\")"
   ]
  },
  {
   "cell_type": "markdown",
   "metadata": {},
   "source": [
    "### Columns used in easypqp library"
   ]
  },
  {
   "cell_type": "code",
   "execution_count": 32,
   "metadata": {},
   "outputs": [],
   "source": [
    "used_columns_psm = [\"Peptide\", \"Gene\", \"Protein ID\"]"
   ]
  },
  {
   "cell_type": "code",
   "execution_count": 33,
   "metadata": {},
   "outputs": [],
   "source": [
    "#Protein -> Gene, Protein ID\n",
    "#Peptide -> Peptide\n",
    "\n",
    "#No new features"
   ]
  },
  {
   "cell_type": "code",
   "execution_count": 34,
   "metadata": {},
   "outputs": [
    {
     "data": {
      "text/html": [
       "<div>\n",
       "<style scoped>\n",
       "    .dataframe tbody tr th:only-of-type {\n",
       "        vertical-align: middle;\n",
       "    }\n",
       "\n",
       "    .dataframe tbody tr th {\n",
       "        vertical-align: top;\n",
       "    }\n",
       "\n",
       "    .dataframe thead th {\n",
       "        text-align: right;\n",
       "    }\n",
       "</style>\n",
       "<table border=\"1\" class=\"dataframe\">\n",
       "  <thead>\n",
       "    <tr style=\"text-align: right;\">\n",
       "      <th></th>\n",
       "      <th>Peptide</th>\n",
       "      <th>Gene</th>\n",
       "      <th>Protein ID</th>\n",
       "    </tr>\n",
       "  </thead>\n",
       "  <tbody>\n",
       "    <tr>\n",
       "      <th>0</th>\n",
       "      <td>GRGEQGGSDGDPVDQQSEPR</td>\n",
       "      <td>rne</td>\n",
       "      <td>P71905</td>\n",
       "    </tr>\n",
       "    <tr>\n",
       "      <th>1</th>\n",
       "      <td>TDGNQKPDGNSGEQVTVTDK</td>\n",
       "      <td>grpE</td>\n",
       "      <td>P9WMT5</td>\n",
       "    </tr>\n",
       "    <tr>\n",
       "      <th>2</th>\n",
       "      <td>NFYDADPLAKAASGGGNGYSLR</td>\n",
       "      <td>mce1A</td>\n",
       "      <td>Q79FZ9</td>\n",
       "    </tr>\n",
       "  </tbody>\n",
       "</table>\n",
       "</div>"
      ],
      "text/plain": [
       "                  Peptide   Gene Protein ID\n",
       "0    GRGEQGGSDGDPVDQQSEPR    rne     P71905\n",
       "1    TDGNQKPDGNSGEQVTVTDK   grpE     P9WMT5\n",
       "2  NFYDADPLAKAASGGGNGYSLR  mce1A     Q79FZ9"
      ]
     },
     "execution_count": 34,
     "metadata": {},
     "output_type": "execute_result"
    }
   ],
   "source": [
    "psm_tsv[used_columns_psm].head(3)"
   ]
  },
  {
   "cell_type": "markdown",
   "metadata": {},
   "source": [
    "### What is needed for psm.tsv"
   ]
  },
  {
   "cell_type": "code",
   "execution_count": 35,
   "metadata": {},
   "outputs": [],
   "source": [
    "peptide_tsv = pd.read_csv(\"./data/peptide.tsv\", sep=\"\\t\")\n"
   ]
  },
  {
   "cell_type": "markdown",
   "metadata": {},
   "source": [
    "### Columns used in easypqp library"
   ]
  },
  {
   "cell_type": "code",
   "execution_count": 36,
   "metadata": {},
   "outputs": [],
   "source": [
    "used_columns_peptide = [\"Spectrum\", 'Spectrum File', \"Peptide\"]"
   ]
  },
  {
   "cell_type": "code",
   "execution_count": 37,
   "metadata": {},
   "outputs": [
    {
     "data": {
      "text/html": [
       "<div>\n",
       "<style scoped>\n",
       "    .dataframe tbody tr th:only-of-type {\n",
       "        vertical-align: middle;\n",
       "    }\n",
       "\n",
       "    .dataframe tbody tr th {\n",
       "        vertical-align: top;\n",
       "    }\n",
       "\n",
       "    .dataframe thead th {\n",
       "        text-align: right;\n",
       "    }\n",
       "</style>\n",
       "<table border=\"1\" class=\"dataframe\">\n",
       "  <thead>\n",
       "    <tr style=\"text-align: right;\">\n",
       "      <th></th>\n",
       "      <th>Spectrum</th>\n",
       "      <th>Spectrum File</th>\n",
       "      <th>Peptide</th>\n",
       "    </tr>\n",
       "  </thead>\n",
       "  <tbody>\n",
       "    <tr>\n",
       "      <th>0</th>\n",
       "      <td>Sample1.10719.10719.2</td>\n",
       "      <td>interact-Sample1.pep.xml</td>\n",
       "      <td>GRGEQGGSDGDPVDQQSEPR</td>\n",
       "    </tr>\n",
       "    <tr>\n",
       "      <th>1</th>\n",
       "      <td>Sample1.11465.11465.3</td>\n",
       "      <td>interact-Sample1.pep.xml</td>\n",
       "      <td>TDGNQKPDGNSGEQVTVTDK</td>\n",
       "    </tr>\n",
       "    <tr>\n",
       "      <th>2</th>\n",
       "      <td>Sample1.11954.11954.4</td>\n",
       "      <td>interact-Sample1.pep.xml</td>\n",
       "      <td>NFYDADPLAKAASGGGNGYSLR</td>\n",
       "    </tr>\n",
       "  </tbody>\n",
       "</table>\n",
       "</div>"
      ],
      "text/plain": [
       "                Spectrum             Spectrum File                 Peptide\n",
       "0  Sample1.10719.10719.2  interact-Sample1.pep.xml    GRGEQGGSDGDPVDQQSEPR\n",
       "1  Sample1.11465.11465.3  interact-Sample1.pep.xml    TDGNQKPDGNSGEQVTVTDK\n",
       "2  Sample1.11954.11954.4  interact-Sample1.pep.xml  NFYDADPLAKAASGGGNGYSLR"
      ]
     },
     "execution_count": 37,
     "metadata": {},
     "output_type": "execute_result"
    }
   ],
   "source": [
    "psm_tsv[used_columns_peptide].head(3)"
   ]
  },
  {
   "cell_type": "code",
   "execution_count": 38,
   "metadata": {},
   "outputs": [],
   "source": [
    "#Spectrum -> spectrum\n",
    "#Peptide -> Peptide\n",
    "#Spectrum File -> _rank\n",
    "#No new features"
   ]
  },
  {
   "cell_type": "markdown",
   "metadata": {},
   "source": [
    "### Run easypqp with normal easypqp convert output"
   ]
  },
  {
   "cell_type": "code",
   "execution_count": 39,
   "metadata": {},
   "outputs": [
    {
     "name": "stdout",
     "output_type": "stream",
     "text": [
      "Info: There are psm.tsv and peptide.tsv. Will ignore --psm_fdr_threshold, --peptide_fdr_threshold, --protein_fdr_threshold, --pi0_lambda, --proteotypic, and --no-proteotypic.\n",
      "Info: Reading file ./data/Sample1.psmpkl.\n",
      "Info: 922 redundant PSMs identified after filtering with ./data/psm.tsv and ./data/peptide.tsv\n",
      "  base_name  modified_peptide\n",
      "0   Sample1               139\n",
      "Info: easypqp_rt_alignment_Sample1; Peptide overlap between run and reference: 139.\n",
      "Info: Parsing file ./data/Sample1.peakpklls.\n",
      "Info: Library successfully generated.\n"
     ]
    }
   ],
   "source": [
    "!easypqp library --psmtsv ./data/psm.tsv \\\n",
    "--peptidetsv ./data/peptide.tsv \\\n",
    "--out ./data/library_complete.tsv \\\n",
    "--rt_lowess_fraction 0.01\\\n",
    "./data/Sample1.psmpkl ./data/Sample1.peakpklls"
   ]
  },
  {
   "cell_type": "markdown",
   "metadata": {},
   "source": [
    "### Run easypqp with nan-inputed easypqp convert output"
   ]
  },
  {
   "cell_type": "code",
   "execution_count": 40,
   "metadata": {},
   "outputs": [
    {
     "name": "stdout",
     "output_type": "stream",
     "text": [
      "Info: There are psm.tsv and peptide.tsv. Will ignore --psm_fdr_threshold, --peptide_fdr_threshold, --protein_fdr_threshold, --pi0_lambda, --proteotypic, and --no-proteotypic.\r\n",
      "Info: Reading file ./data/Sample1_with_nan.psmpkl.\r\n",
      "Traceback (most recent call last):\r\n",
      "  File \"/home/ekvall/anaconda3/envs/terran3/bin/easypqp\", line 8, in <module>\r\n",
      "    sys.exit(cli())\r\n",
      "  File \"/home/ekvall/anaconda3/envs/terran3/lib/python3.6/site-packages/click/core.py\", line 764, in __call__\r\n",
      "    return self.main(*args, **kwargs)\r\n",
      "  File \"/home/ekvall/anaconda3/envs/terran3/lib/python3.6/site-packages/click/core.py\", line 717, in main\r\n",
      "    rv = self.invoke(ctx)\r\n",
      "  File \"/home/ekvall/anaconda3/envs/terran3/lib/python3.6/site-packages/click/core.py\", line 1163, in invoke\r\n",
      "    rv.append(sub_ctx.command.invoke(sub_ctx))\r\n",
      "  File \"/home/ekvall/anaconda3/envs/terran3/lib/python3.6/site-packages/click/core.py\", line 956, in invoke\r\n",
      "    return ctx.invoke(self.callback, **ctx.params)\r\n",
      "  File \"/home/ekvall/anaconda3/envs/terran3/lib/python3.6/site-packages/click/core.py\", line 555, in invoke\r\n",
      "    return callback(*args, **kwargs)\r\n",
      "  File \"/home/ekvall/anaconda3/envs/terran3/lib/python3.6/site-packages/easypqp/main.py\", line 95, in library\r\n",
      "    generate(infiles, outfile, psmtsv, peptidetsv, rt_referencefile, rt_filter, im_referencefile, im_filter, psm_fdr_threshold, peptide_fdr_threshold, protein_fdr_threshold, rt_lowess_fraction, rt_psm_fdr_threshold, im_lowess_fraction, im_psm_fdr_threshold, pi0_lambda, peptide_plot_path, protein_plot_path, min_peptides, proteotypic, consensus, nofdr)\r\n",
      "  File \"/home/ekvall/anaconda3/envs/terran3/lib/python3.6/site-packages/easypqp/library.py\", line 308, in generate\r\n",
      "    pepid = process_psms(psms, psmtsv, peptidetsv, psm_fdr_threshold, peptide_fdr_threshold, protein_fdr_threshold, pi0_lambda, peptide_plot_path, protein_plot_path, proteotypic, nofdr)\r\n",
      "  File \"/home/ekvall/anaconda3/envs/terran3/lib/python3.6/site-packages/easypqp/library.py\", line 117, in process_psms\r\n",
      "    psms['base_name'] = psms['run_id'].apply(lambda x: os.path.splitext(os.path.basename(x))[0])\r\n",
      "  File \"/home/ekvall/anaconda3/envs/terran3/lib/python3.6/site-packages/pandas/core/series.py\", line 4213, in apply\r\n",
      "    mapped = lib.map_infer(values, f, convert=convert_dtype)\r\n",
      "  File \"pandas/_libs/lib.pyx\", line 2403, in pandas._libs.lib.map_infer\r\n",
      "  File \"/home/ekvall/anaconda3/envs/terran3/lib/python3.6/site-packages/easypqp/library.py\", line 117, in <lambda>\r\n",
      "    psms['base_name'] = psms['run_id'].apply(lambda x: os.path.splitext(os.path.basename(x))[0])\r\n",
      "  File \"/home/ekvall/anaconda3/envs/terran3/lib/python3.6/posixpath.py\", line 146, in basename\r\n",
      "    p = os.fspath(p)\r\n",
      "TypeError: expected str, bytes or os.PathLike object, not float\r\n"
     ]
    }
   ],
   "source": [
    "!easypqp library --psmtsv ./data/psm.tsv \\\n",
    "--peptidetsv ./data/peptide.tsv \\\n",
    "--out ./data/library_with_nan.tsv \\\n",
    "--rt_lowess_fraction 0.01 \\\n",
    "./data/Sample1_with_nan.psmpkl ./data/Sample1.peakpklls\n"
   ]
  },
  {
   "cell_type": "code",
   "execution_count": 22,
   "metadata": {},
   "outputs": [],
   "source": [
    "library_complete_with_nan = pd.read_csv(\"./data/library_with_nan.tsv\",sep=\"\\t\")\n",
    "library_complete = pd.read_csv(\"./data/library_complete.tsv\",sep=\"\\t\")"
   ]
  },
  {
   "cell_type": "code",
   "execution_count": 23,
   "metadata": {},
   "outputs": [
    {
     "data": {
      "text/plain": [
       "True"
      ]
     },
     "execution_count": 23,
     "metadata": {},
     "output_type": "execute_result"
    }
   ],
   "source": [
    "library_complete_with_nan.equals(library_complete)"
   ]
  },
  {
   "cell_type": "markdown",
   "metadata": {},
   "source": [
    "# Recap: We need "
   ]
  },
  {
   "cell_type": "markdown",
   "metadata": {},
   "source": [
    "### retention_time_sec, assumed_charge, protein, modifications, spectrum, start_scan, probability, peptide and _rank(?)"
   ]
  },
  {
   "cell_type": "code",
   "execution_count": null,
   "metadata": {},
   "outputs": [],
   "source": []
  }
 ],
 "metadata": {
  "kernelspec": {
   "display_name": "Python (terran3)",
   "language": "python",
   "name": "terran3"
  },
  "language_info": {
   "codemirror_mode": {
    "name": "ipython",
    "version": 3
   },
   "file_extension": ".py",
   "mimetype": "text/x-python",
   "name": "python",
   "nbconvert_exporter": "python",
   "pygments_lexer": "ipython3",
   "version": "3.6.10"
  }
 },
 "nbformat": 4,
 "nbformat_minor": 2
}
